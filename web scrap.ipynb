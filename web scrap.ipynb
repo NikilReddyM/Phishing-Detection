{
 "cells": [
  {
   "cell_type": "code",
   "execution_count": 118,
   "metadata": {},
   "outputs": [],
   "source": [
    "from bs4 import BeautifulSoup\n",
    "import requests\n",
    "import numpy as np\n",
    "import pandas as pd"
   ]
  },
  {
   "cell_type": "code",
   "execution_count": 129,
   "metadata": {},
   "outputs": [],
   "source": [
    "def getPhishingDataToFile(start,end,is_valid,filename):\n",
    "    data=[]\n",
    "    for i in range(start,end+1):\n",
    "        request = requests.get(\"http://phishtank.com/phish_search.php?page=\"+str(i)+\"&valid=\"+is_valid+\"&Search=Search\")\n",
    "        if(request.status_code != 200):\n",
    "            print(\"broke at page number: \",i)\n",
    "            break\n",
    "        data.extend(processPage(request))\n",
    "        \n",
    "    data = pd.DataFrame(np.array(data))\n",
    "    data.columns = [\"LINK\",\"IS_VALID\"]\n",
    "    data.to_csv(filename,index=False)"
   ]
  },
  {
   "cell_type": "code",
   "execution_count": 130,
   "metadata": {},
   "outputs": [],
   "source": [
    "def unwrapRow(row):\n",
    "    tds = row.find_all('td')\n",
    "    \n",
    "    status = tds[3].string\n",
    "    \n",
    "    linkdata = str(tds[1])\n",
    "    start_index = linkdata.find('>')+1\n",
    "    end_index = linkdata.find(\"<br/>\")\n",
    "    link = linkdata[start_index:end_index]\n",
    "    \n",
    "    return [link,status]"
   ]
  },
  {
   "cell_type": "code",
   "execution_count": 131,
   "metadata": {},
   "outputs": [],
   "source": [
    "def processPage(page_request):\n",
    "    page = BeautifulSoup(page_request.text, 'html.parser')\n",
    "    rows = page.find_all('tr')\n",
    "    page_data=[]\n",
    "    for row in rows[1:]:\n",
    "        page_data.append(unwrapRow(row))\n",
    "    return page_data\n",
    "    "
   ]
  },
  {
   "cell_type": "code",
   "execution_count": null,
   "metadata": {},
   "outputs": [],
   "source": [
    "getPhishingDataToFile(1,100,'n','PhishingLinkData_1to100.csv')"
   ]
  },
  {
   "cell_type": "code",
   "execution_count": null,
   "metadata": {},
   "outputs": [],
   "source": [
    "getPhishingDataToFile(101,200,'n','PhishingLinkData_101to200.csv')"
   ]
  },
  {
   "cell_type": "code",
   "execution_count": null,
   "metadata": {},
   "outputs": [],
   "source": []
  }
 ],
 "metadata": {
  "kernelspec": {
   "display_name": "Python 3",
   "language": "python",
   "name": "python3"
  },
  "language_info": {
   "codemirror_mode": {
    "name": "ipython",
    "version": 3
   },
   "file_extension": ".py",
   "mimetype": "text/x-python",
   "name": "python",
   "nbconvert_exporter": "python",
   "pygments_lexer": "ipython3",
   "version": "3.7.0"
  }
 },
 "nbformat": 4,
 "nbformat_minor": 2
}
